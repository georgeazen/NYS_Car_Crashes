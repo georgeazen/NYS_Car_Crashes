{
  "nbformat": 4,
  "nbformat_minor": 0,
  "metadata": {
    "colab": {
      "name": "Car_Crashes.ipynb",
      "provenance": [],
      "authorship_tag": "ABX9TyP2mpp+Ond90Nlg1mUJtU7a",
      "include_colab_link": true
    },
    "kernelspec": {
      "name": "python3",
      "display_name": "Python 3"
    },
    "language_info": {
      "name": "python"
    }
  },
  "cells": [
    {
      "cell_type": "markdown",
      "metadata": {
        "id": "view-in-github",
        "colab_type": "text"
      },
      "source": [
        "<a href=\"https://colab.research.google.com/github/georgeazen/NYS_Car_Crashes/blob/main/Car_Crashes.ipynb\" target=\"_parent\"><img src=\"https://colab.research.google.com/assets/colab-badge.svg\" alt=\"Open In Colab\"/></a>"
      ]
    },
    {
      "cell_type": "code",
      "metadata": {
        "id": "q34BbNE9ZmAW"
      },
      "source": [
        "import pandas as pd\n",
        "import numpy as np\n"
      ],
      "execution_count": 17,
      "outputs": []
    },
    {
      "cell_type": "code",
      "metadata": {
        "colab": {
          "base_uri": "https://localhost:8080/"
        },
        "id": "nMKR7tmCaWmA",
        "outputId": "16846032-db2f-42dc-e3b0-bac5ef6740b6"
      },
      "source": [
        "from google.colab import drive \n",
        "drive.mount('/content/gdrive')"
      ],
      "execution_count": 18,
      "outputs": [
        {
          "output_type": "stream",
          "name": "stdout",
          "text": [
            "Mounted at /content/gdrive\n"
          ]
        }
      ]
    },
    {
      "cell_type": "code",
      "metadata": {
        "id": "wqTWhSrKZoKe"
      },
      "source": [
        "df = pd.read_csv('gdrive/My Drive/Motor_Vehicle_Crashes_-_Case_Information__Three_Year_Window.csv')"
      ],
      "execution_count": null,
      "outputs": []
    },
    {
      "cell_type": "code",
      "metadata": {
        "id": "YDvoehQd3Rn_"
      },
      "source": [
        "!apt-get install openjdk-8-jdk-headless -qq > /dev/null\n",
        "!wget -q https://archive.apache.org/dist/spark/spark-3.0.0/spark-3.0.0-bin-hadoop3.2.tgz\n",
        "!tar xf spark-3.0.0-bin-hadoop3.2.tgz\n",
        "!pip install -q findspark"
      ],
      "execution_count": 11,
      "outputs": []
    },
    {
      "cell_type": "code",
      "metadata": {
        "id": "yAa9hZZU3Rr7"
      },
      "source": [
        "import os\n",
        "os.environ[\"JAVA_HOME\"] = \"/usr/lib/jvm/java-8-openjdk-amd64\"\n",
        "os.environ[\"SPARK_HOME\"] = \"/content/spark-3.0.0-bin-hadoop3.2\""
      ],
      "execution_count": 12,
      "outputs": []
    },
    {
      "cell_type": "code",
      "metadata": {
        "id": "y7WXmkqj-cUt"
      },
      "source": [
        "import findspark\n",
        "findspark.init()\n",
        "from pyspark.sql import SparkSession\n",
        "spark = SparkSession.builder.master(\"local[*]\").getOrCreate()"
      ],
      "execution_count": 13,
      "outputs": []
    },
    {
      "cell_type": "code",
      "metadata": {
        "id": "R_vBcUxx-nB3"
      },
      "source": [
        "df = spark.read.csv('gdrive/My Drive/Motor_Vehicle_Crashes_-_Case_Information__Three_Year_Window.csv',inferSchema=True, header =True)"
      ],
      "execution_count": 19,
      "outputs": []
    },
    {
      "cell_type": "code",
      "metadata": {
        "colab": {
          "base_uri": "https://localhost:8080/"
        },
        "id": "A2vpnpa3-nEv",
        "outputId": "b85862d8-55ee-4752-a12e-af62ce3edb52"
      },
      "source": [
        "df.show(5)"
      ],
      "execution_count": 20,
      "outputs": [
        {
          "output_type": "stream",
          "name": "stdout",
          "text": [
            "+----+--------------------+-----+----------+-----------+-------------+-------------------+--------------+-------------------------+-----------+------------------+------------------+----------------------+-----------------------+-----------------------------+---------------------------+--------------------+---------------------------+\n",
            "|Year|    Crash Descriptor| Time|      Date|Day of Week|Police Report|Lighting Conditions|  Municipality|Collision Type Descriptor|County Name|   Road Descriptor|Weather Conditions|Traffic Control Device|Road Surface Conditions|DOT Reference Marker Location|Pedestrian Bicyclist Action|    Event Descriptor|Number of Vehicles Involved|\n",
            "+----+--------------------+-----+----------+-----------+-------------+-------------------+--------------+-------------------------+-----------+------------------+------------------+----------------------+-----------------------+-----------------------------+---------------------------+--------------------+---------------------------+\n",
            "|2019|Property Damage A...|17:14|12/31/2019|    Tuesday|            Y|Dark-Road Unlighted|     MIDDLESEX|                    OTHER|      YATES|Straight and Level|              Snow|                  None|                    Wet|                 364 66011104|             Not Applicable|                Deer|                          1|\n",
            "|2019|Property Damage A...|22:08|12/31/2019|    Tuesday|            Y|Dark-Road Unlighted|        LE RAY|                SIDESWIPE|  JEFFERSON|Straight and Level|              Snow|                  None|               Snow/Ice|                  26 73071094|             Not Applicable|Other Motor Vehic...|                          2|\n",
            "|2019|Property Damage A...|14:50|12/31/2019|    Tuesday|            Y|           Daylight|     HEMPSTEAD|               OVERTAKING|     NASSAU|Straight and Level|            Cloudy|        Traffic Signal|                    Dry|                         null|             Not Applicable|Other Motor Vehic...|                          2|\n",
            "|2019|Property Damage &...|22:50|12/31/2019|    Tuesday|            Y|  Dark-Road Lighted|    BROOKHAVEN|              RIGHT ANGLE|    SUFFOLK|Straight and Level|              Rain|             Stop Sign|                    Wet|                         null|             Not Applicable|Other Motor Vehic...|                          2|\n",
            "|2019|Property Damage &...|15:05|12/31/2019|    Tuesday|            Y|           Daylight|BLOOMING GROVE|                 REAR END|     ORANGE|Straight and Level|             Clear|       No Passing Zone|                    Dry|                         null|             Not Applicable|Other Motor Vehic...|                          2|\n",
            "+----+--------------------+-----+----------+-----------+-------------+-------------------+--------------+-------------------------+-----------+------------------+------------------+----------------------+-----------------------+-----------------------------+---------------------------+--------------------+---------------------------+\n",
            "only showing top 5 rows\n",
            "\n"
          ]
        }
      ]
    },
    {
      "cell_type": "code",
      "metadata": {
        "id": "APOzibIJ-nQD"
      },
      "source": [
        ""
      ],
      "execution_count": null,
      "outputs": []
    },
    {
      "cell_type": "code",
      "metadata": {
        "id": "jBGdx4fLvBBl",
        "colab": {
          "base_uri": "https://localhost:8080/"
        },
        "outputId": "39b0dc3f-1dad-45ed-fdf5-a589b4ede4c8"
      },
      "source": [
        "\n",
        "print(df['Crash Descriptor'].unique())"
      ],
      "execution_count": null,
      "outputs": [
        {
          "output_type": "stream",
          "name": "stdout",
          "text": [
            "['Property Damage Accident' 'Property Damage & Injury Accident'\n",
            " 'Injury Accident' 'Fatal Accident']\n"
          ]
        }
      ]
    },
    {
      "cell_type": "code",
      "metadata": {
        "id": "qu858IlbvBEs"
      },
      "source": [
        "#adding boolean column for fatal crashes \n",
        "df['fatal']=np.where(df['Crash Descriptor'] == 'Fatal Accident', True, False)"
      ],
      "execution_count": null,
      "outputs": []
    },
    {
      "cell_type": "code",
      "metadata": {
        "id": "WxROjQ40vBQa",
        "colab": {
          "base_uri": "https://localhost:8080/"
        },
        "outputId": "d785a0d2-a841-4f45-a07b-8d31580a3994"
      },
      "source": [
        "df['fatal'].value_counts(normalize = True)"
      ],
      "execution_count": null,
      "outputs": [
        {
          "output_type": "execute_result",
          "data": {
            "text/plain": [
              "False    0.998\n",
              "True     0.002\n",
              "Name: fatal, dtype: float64"
            ]
          },
          "metadata": {},
          "execution_count": 13
        }
      ]
    },
    {
      "cell_type": "code",
      "metadata": {
        "id": "BhfztJYha03p",
        "colab": {
          "base_uri": "https://localhost:8080/",
          "height": 425
        },
        "outputId": "0409e465-85f1-4359-c117-d3d183778074"
      },
      "source": [
        "df.head()"
      ],
      "execution_count": null,
      "outputs": [
        {
          "output_type": "execute_result",
          "data": {
            "text/html": [
              "<div>\n",
              "<style scoped>\n",
              "    .dataframe tbody tr th:only-of-type {\n",
              "        vertical-align: middle;\n",
              "    }\n",
              "\n",
              "    .dataframe tbody tr th {\n",
              "        vertical-align: top;\n",
              "    }\n",
              "\n",
              "    .dataframe thead th {\n",
              "        text-align: right;\n",
              "    }\n",
              "</style>\n",
              "<table border=\"1\" class=\"dataframe\">\n",
              "  <thead>\n",
              "    <tr style=\"text-align: right;\">\n",
              "      <th></th>\n",
              "      <th>Year</th>\n",
              "      <th>Crash Descriptor</th>\n",
              "      <th>Time</th>\n",
              "      <th>Date</th>\n",
              "      <th>Day of Week</th>\n",
              "      <th>Police Report</th>\n",
              "      <th>Lighting Conditions</th>\n",
              "      <th>Municipality</th>\n",
              "      <th>Collision Type Descriptor</th>\n",
              "      <th>County Name</th>\n",
              "      <th>Road Descriptor</th>\n",
              "      <th>Weather Conditions</th>\n",
              "      <th>Traffic Control Device</th>\n",
              "      <th>Road Surface Conditions</th>\n",
              "      <th>DOT Reference Marker Location</th>\n",
              "      <th>Pedestrian Bicyclist Action</th>\n",
              "      <th>Event Descriptor</th>\n",
              "      <th>Number of Vehicles Involved</th>\n",
              "      <th>fatal</th>\n",
              "    </tr>\n",
              "  </thead>\n",
              "  <tbody>\n",
              "    <tr>\n",
              "      <th>0</th>\n",
              "      <td>2019</td>\n",
              "      <td>Property Damage Accident</td>\n",
              "      <td>17:14</td>\n",
              "      <td>12/31/2019</td>\n",
              "      <td>Tuesday</td>\n",
              "      <td>Y</td>\n",
              "      <td>Dark-Road Unlighted</td>\n",
              "      <td>MIDDLESEX</td>\n",
              "      <td>OTHER</td>\n",
              "      <td>YATES</td>\n",
              "      <td>Straight and Level</td>\n",
              "      <td>Snow</td>\n",
              "      <td>None</td>\n",
              "      <td>Wet</td>\n",
              "      <td>364 66011104</td>\n",
              "      <td>Not Applicable</td>\n",
              "      <td>Deer</td>\n",
              "      <td>1</td>\n",
              "      <td>False</td>\n",
              "    </tr>\n",
              "    <tr>\n",
              "      <th>1</th>\n",
              "      <td>2019</td>\n",
              "      <td>Property Damage Accident</td>\n",
              "      <td>22:08</td>\n",
              "      <td>12/31/2019</td>\n",
              "      <td>Tuesday</td>\n",
              "      <td>Y</td>\n",
              "      <td>Dark-Road Unlighted</td>\n",
              "      <td>LE RAY</td>\n",
              "      <td>SIDESWIPE</td>\n",
              "      <td>JEFFERSON</td>\n",
              "      <td>Straight and Level</td>\n",
              "      <td>Snow</td>\n",
              "      <td>None</td>\n",
              "      <td>Snow/Ice</td>\n",
              "      <td>26 73071094</td>\n",
              "      <td>Not Applicable</td>\n",
              "      <td>Other Motor Vehicle, Collision With</td>\n",
              "      <td>2</td>\n",
              "      <td>False</td>\n",
              "    </tr>\n",
              "    <tr>\n",
              "      <th>2</th>\n",
              "      <td>2019</td>\n",
              "      <td>Property Damage Accident</td>\n",
              "      <td>14:50</td>\n",
              "      <td>12/31/2019</td>\n",
              "      <td>Tuesday</td>\n",
              "      <td>Y</td>\n",
              "      <td>Daylight</td>\n",
              "      <td>HEMPSTEAD</td>\n",
              "      <td>OVERTAKING</td>\n",
              "      <td>NASSAU</td>\n",
              "      <td>Straight and Level</td>\n",
              "      <td>Cloudy</td>\n",
              "      <td>Traffic Signal</td>\n",
              "      <td>Dry</td>\n",
              "      <td>NaN</td>\n",
              "      <td>Not Applicable</td>\n",
              "      <td>Other Motor Vehicle, Collision With</td>\n",
              "      <td>2</td>\n",
              "      <td>False</td>\n",
              "    </tr>\n",
              "    <tr>\n",
              "      <th>3</th>\n",
              "      <td>2019</td>\n",
              "      <td>Property Damage &amp; Injury Accident</td>\n",
              "      <td>22:50</td>\n",
              "      <td>12/31/2019</td>\n",
              "      <td>Tuesday</td>\n",
              "      <td>Y</td>\n",
              "      <td>Dark-Road Lighted</td>\n",
              "      <td>BROOKHAVEN</td>\n",
              "      <td>RIGHT ANGLE</td>\n",
              "      <td>SUFFOLK</td>\n",
              "      <td>Straight and Level</td>\n",
              "      <td>Rain</td>\n",
              "      <td>Stop Sign</td>\n",
              "      <td>Wet</td>\n",
              "      <td>NaN</td>\n",
              "      <td>Not Applicable</td>\n",
              "      <td>Other Motor Vehicle, Collision With</td>\n",
              "      <td>2</td>\n",
              "      <td>False</td>\n",
              "    </tr>\n",
              "    <tr>\n",
              "      <th>4</th>\n",
              "      <td>2019</td>\n",
              "      <td>Property Damage &amp; Injury Accident</td>\n",
              "      <td>15:05</td>\n",
              "      <td>12/31/2019</td>\n",
              "      <td>Tuesday</td>\n",
              "      <td>Y</td>\n",
              "      <td>Daylight</td>\n",
              "      <td>BLOOMING GROVE</td>\n",
              "      <td>REAR END</td>\n",
              "      <td>ORANGE</td>\n",
              "      <td>Straight and Level</td>\n",
              "      <td>Clear</td>\n",
              "      <td>No Passing Zone</td>\n",
              "      <td>Dry</td>\n",
              "      <td>NaN</td>\n",
              "      <td>Not Applicable</td>\n",
              "      <td>Other Motor Vehicle, Collision With</td>\n",
              "      <td>2</td>\n",
              "      <td>False</td>\n",
              "    </tr>\n",
              "  </tbody>\n",
              "</table>\n",
              "</div>"
            ],
            "text/plain": [
              "   Year                   Crash Descriptor  ... Number of Vehicles Involved  fatal\n",
              "0  2019           Property Damage Accident  ...                           1  False\n",
              "1  2019           Property Damage Accident  ...                           2  False\n",
              "2  2019           Property Damage Accident  ...                           2  False\n",
              "3  2019  Property Damage & Injury Accident  ...                           2  False\n",
              "4  2019  Property Damage & Injury Accident  ...                           2  False\n",
              "\n",
              "[5 rows x 19 columns]"
            ]
          },
          "metadata": {},
          "execution_count": 8
        }
      ]
    },
    {
      "cell_type": "code",
      "metadata": {
        "id": "Ak2bHD4DhRZg"
      },
      "source": [
        ""
      ],
      "execution_count": null,
      "outputs": []
    },
    {
      "cell_type": "code",
      "metadata": {
        "colab": {
          "base_uri": "https://localhost:8080/"
        },
        "id": "v1TPKeN_a1XS",
        "outputId": "21f8ed71-5363-462f-b376-76165e3c3be8"
      },
      "source": [
        "for col in df:\n",
        "  print(col)"
      ],
      "execution_count": null,
      "outputs": [
        {
          "output_type": "stream",
          "name": "stdout",
          "text": [
            "Year\n",
            "Crash Descriptor\n",
            "Time\n",
            "Date\n",
            "Day of Week\n",
            "Police Report\n",
            "Lighting Conditions\n",
            "Municipality\n",
            "Collision Type Descriptor\n",
            "County Name\n",
            "Road Descriptor\n",
            "Weather Conditions\n",
            "Traffic Control Device\n",
            "Road Surface Conditions\n",
            "DOT Reference Marker Location\n",
            "Pedestrian Bicyclist Action\n",
            "Event Descriptor\n",
            "Number of Vehicles Involved\n"
          ]
        }
      ]
    }
  ]
}