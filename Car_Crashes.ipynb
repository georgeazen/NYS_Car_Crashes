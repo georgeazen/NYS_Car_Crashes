{
  "nbformat": 4,
  "nbformat_minor": 0,
  "metadata": {
    "colab": {
      "name": "Car_Crashes.ipynb",
      "provenance": [],
      "authorship_tag": "ABX9TyPCEZpBJk39f2UY4+3eZ5Vt",
      "include_colab_link": true
    },
    "kernelspec": {
      "name": "python3",
      "display_name": "Python 3"
    },
    "language_info": {
      "name": "python"
    }
  },
  "cells": [
    {
      "cell_type": "markdown",
      "metadata": {
        "id": "view-in-github",
        "colab_type": "text"
      },
      "source": [
        "<a href=\"https://colab.research.google.com/github/georgeazen/NYS_Car_Crashes/blob/main/Car_Crashes.ipynb\" target=\"_parent\"><img src=\"https://colab.research.google.com/assets/colab-badge.svg\" alt=\"Open In Colab\"/></a>"
      ]
    },
    {
      "cell_type": "code",
      "metadata": {
        "id": "q34BbNE9ZmAW"
      },
      "source": [
        "import pandas as pd\n",
        "import numpy as np\n"
      ],
      "execution_count": 6,
      "outputs": []
    },
    {
      "cell_type": "code",
      "metadata": {
        "colab": {
          "base_uri": "https://localhost:8080/"
        },
        "id": "nMKR7tmCaWmA",
        "outputId": "c2b2f243-0cfe-4742-c8fb-72f1b12d9ab8"
      },
      "source": [
        "from google.colab import drive \n",
        "drive.mount('/content/gdrive')"
      ],
      "execution_count": 2,
      "outputs": [
        {
          "output_type": "stream",
          "name": "stdout",
          "text": [
            "Mounted at /content/gdrive\n"
          ]
        }
      ]
    },
    {
      "cell_type": "code",
      "metadata": {
        "id": "wqTWhSrKZoKe"
      },
      "source": [
        "df = pd.read_csv('gdrive/My Drive/Motor_Vehicle_Crashes_-_Case_Information__Three_Year_Window.csv')"
      ],
      "execution_count": 3,
      "outputs": []
    },
    {
      "cell_type": "code",
      "metadata": {
        "id": "jBGdx4fLvBBl",
        "colab": {
          "base_uri": "https://localhost:8080/"
        },
        "outputId": "39b0dc3f-1dad-45ed-fdf5-a589b4ede4c8"
      },
      "source": [
        "\n",
        "print(df['Crash Descriptor'].unique())"
      ],
      "execution_count": 5,
      "outputs": [
        {
          "output_type": "stream",
          "name": "stdout",
          "text": [
            "['Property Damage Accident' 'Property Damage & Injury Accident'\n",
            " 'Injury Accident' 'Fatal Accident']\n"
          ]
        }
      ]
    },
    {
      "cell_type": "code",
      "metadata": {
        "id": "qu858IlbvBEs"
      },
      "source": [
        "df['fatal']=np.where(df['Crash Descriptor'] == 'Fatal Accident', True, False)"
      ],
      "execution_count": 7,
      "outputs": []
    },
    {
      "cell_type": "code",
      "metadata": {
        "id": "WxROjQ40vBQa",
        "colab": {
          "base_uri": "https://localhost:8080/"
        },
        "outputId": "d785a0d2-a841-4f45-a07b-8d31580a3994"
      },
      "source": [
        "df['fatal'].value_counts(normalize = True)"
      ],
      "execution_count": 13,
      "outputs": [
        {
          "output_type": "execute_result",
          "data": {
            "text/plain": [
              "False    0.998\n",
              "True     0.002\n",
              "Name: fatal, dtype: float64"
            ]
          },
          "metadata": {},
          "execution_count": 13
        }
      ]
    },
    {
      "cell_type": "code",
      "metadata": {
        "id": "BhfztJYha03p",
        "colab": {
          "base_uri": "https://localhost:8080/",
          "height": 425
        },
        "outputId": "0409e465-85f1-4359-c117-d3d183778074"
      },
      "source": [
        "df.head()"
      ],
      "execution_count": 8,
      "outputs": [
        {
          "output_type": "execute_result",
          "data": {
            "text/html": [
              "<div>\n",
              "<style scoped>\n",
              "    .dataframe tbody tr th:only-of-type {\n",
              "        vertical-align: middle;\n",
              "    }\n",
              "\n",
              "    .dataframe tbody tr th {\n",
              "        vertical-align: top;\n",
              "    }\n",
              "\n",
              "    .dataframe thead th {\n",
              "        text-align: right;\n",
              "    }\n",
              "</style>\n",
              "<table border=\"1\" class=\"dataframe\">\n",
              "  <thead>\n",
              "    <tr style=\"text-align: right;\">\n",
              "      <th></th>\n",
              "      <th>Year</th>\n",
              "      <th>Crash Descriptor</th>\n",
              "      <th>Time</th>\n",
              "      <th>Date</th>\n",
              "      <th>Day of Week</th>\n",
              "      <th>Police Report</th>\n",
              "      <th>Lighting Conditions</th>\n",
              "      <th>Municipality</th>\n",
              "      <th>Collision Type Descriptor</th>\n",
              "      <th>County Name</th>\n",
              "      <th>Road Descriptor</th>\n",
              "      <th>Weather Conditions</th>\n",
              "      <th>Traffic Control Device</th>\n",
              "      <th>Road Surface Conditions</th>\n",
              "      <th>DOT Reference Marker Location</th>\n",
              "      <th>Pedestrian Bicyclist Action</th>\n",
              "      <th>Event Descriptor</th>\n",
              "      <th>Number of Vehicles Involved</th>\n",
              "      <th>fatal</th>\n",
              "    </tr>\n",
              "  </thead>\n",
              "  <tbody>\n",
              "    <tr>\n",
              "      <th>0</th>\n",
              "      <td>2019</td>\n",
              "      <td>Property Damage Accident</td>\n",
              "      <td>17:14</td>\n",
              "      <td>12/31/2019</td>\n",
              "      <td>Tuesday</td>\n",
              "      <td>Y</td>\n",
              "      <td>Dark-Road Unlighted</td>\n",
              "      <td>MIDDLESEX</td>\n",
              "      <td>OTHER</td>\n",
              "      <td>YATES</td>\n",
              "      <td>Straight and Level</td>\n",
              "      <td>Snow</td>\n",
              "      <td>None</td>\n",
              "      <td>Wet</td>\n",
              "      <td>364 66011104</td>\n",
              "      <td>Not Applicable</td>\n",
              "      <td>Deer</td>\n",
              "      <td>1</td>\n",
              "      <td>False</td>\n",
              "    </tr>\n",
              "    <tr>\n",
              "      <th>1</th>\n",
              "      <td>2019</td>\n",
              "      <td>Property Damage Accident</td>\n",
              "      <td>22:08</td>\n",
              "      <td>12/31/2019</td>\n",
              "      <td>Tuesday</td>\n",
              "      <td>Y</td>\n",
              "      <td>Dark-Road Unlighted</td>\n",
              "      <td>LE RAY</td>\n",
              "      <td>SIDESWIPE</td>\n",
              "      <td>JEFFERSON</td>\n",
              "      <td>Straight and Level</td>\n",
              "      <td>Snow</td>\n",
              "      <td>None</td>\n",
              "      <td>Snow/Ice</td>\n",
              "      <td>26 73071094</td>\n",
              "      <td>Not Applicable</td>\n",
              "      <td>Other Motor Vehicle, Collision With</td>\n",
              "      <td>2</td>\n",
              "      <td>False</td>\n",
              "    </tr>\n",
              "    <tr>\n",
              "      <th>2</th>\n",
              "      <td>2019</td>\n",
              "      <td>Property Damage Accident</td>\n",
              "      <td>14:50</td>\n",
              "      <td>12/31/2019</td>\n",
              "      <td>Tuesday</td>\n",
              "      <td>Y</td>\n",
              "      <td>Daylight</td>\n",
              "      <td>HEMPSTEAD</td>\n",
              "      <td>OVERTAKING</td>\n",
              "      <td>NASSAU</td>\n",
              "      <td>Straight and Level</td>\n",
              "      <td>Cloudy</td>\n",
              "      <td>Traffic Signal</td>\n",
              "      <td>Dry</td>\n",
              "      <td>NaN</td>\n",
              "      <td>Not Applicable</td>\n",
              "      <td>Other Motor Vehicle, Collision With</td>\n",
              "      <td>2</td>\n",
              "      <td>False</td>\n",
              "    </tr>\n",
              "    <tr>\n",
              "      <th>3</th>\n",
              "      <td>2019</td>\n",
              "      <td>Property Damage &amp; Injury Accident</td>\n",
              "      <td>22:50</td>\n",
              "      <td>12/31/2019</td>\n",
              "      <td>Tuesday</td>\n",
              "      <td>Y</td>\n",
              "      <td>Dark-Road Lighted</td>\n",
              "      <td>BROOKHAVEN</td>\n",
              "      <td>RIGHT ANGLE</td>\n",
              "      <td>SUFFOLK</td>\n",
              "      <td>Straight and Level</td>\n",
              "      <td>Rain</td>\n",
              "      <td>Stop Sign</td>\n",
              "      <td>Wet</td>\n",
              "      <td>NaN</td>\n",
              "      <td>Not Applicable</td>\n",
              "      <td>Other Motor Vehicle, Collision With</td>\n",
              "      <td>2</td>\n",
              "      <td>False</td>\n",
              "    </tr>\n",
              "    <tr>\n",
              "      <th>4</th>\n",
              "      <td>2019</td>\n",
              "      <td>Property Damage &amp; Injury Accident</td>\n",
              "      <td>15:05</td>\n",
              "      <td>12/31/2019</td>\n",
              "      <td>Tuesday</td>\n",
              "      <td>Y</td>\n",
              "      <td>Daylight</td>\n",
              "      <td>BLOOMING GROVE</td>\n",
              "      <td>REAR END</td>\n",
              "      <td>ORANGE</td>\n",
              "      <td>Straight and Level</td>\n",
              "      <td>Clear</td>\n",
              "      <td>No Passing Zone</td>\n",
              "      <td>Dry</td>\n",
              "      <td>NaN</td>\n",
              "      <td>Not Applicable</td>\n",
              "      <td>Other Motor Vehicle, Collision With</td>\n",
              "      <td>2</td>\n",
              "      <td>False</td>\n",
              "    </tr>\n",
              "  </tbody>\n",
              "</table>\n",
              "</div>"
            ],
            "text/plain": [
              "   Year                   Crash Descriptor  ... Number of Vehicles Involved  fatal\n",
              "0  2019           Property Damage Accident  ...                           1  False\n",
              "1  2019           Property Damage Accident  ...                           2  False\n",
              "2  2019           Property Damage Accident  ...                           2  False\n",
              "3  2019  Property Damage & Injury Accident  ...                           2  False\n",
              "4  2019  Property Damage & Injury Accident  ...                           2  False\n",
              "\n",
              "[5 rows x 19 columns]"
            ]
          },
          "metadata": {},
          "execution_count": 8
        }
      ]
    },
    {
      "cell_type": "code",
      "metadata": {
        "id": "cSUIP6MJHeYW"
      },
      "source": [
        "specs =[\n",
        " 'Crash Descriptor',\n",
        " 'Day of Week',\n",
        " 'Police Report',\n",
        " 'Lighting Conditions',\n",
        " 'Municipality',\n",
        " 'Collision Type Descriptor',\n",
        " 'County Name',\n",
        " 'Road Descriptor',\n",
        " 'Weather Conditions',\n",
        " 'Traffic Control Device',\n",
        " 'Road Surface Conditions',\n",
        " 'DOT Reference Marker Location',\n",
        " 'Pedestrian Bicyclist Action',\n",
        " 'Event Descriptor',\n",
        " 'Number of Vehicles Involved']"
      ],
      "execution_count": null,
      "outputs": []
    },
    {
      "cell_type": "code",
      "metadata": {
        "colab": {
          "base_uri": "https://localhost:8080/"
        },
        "id": "bF8mc2qZICjw",
        "outputId": "e4bda51e-ebcf-451e-caaa-3a4d6e533f29"
      },
      "source": [
        "for i in specs:\n",
        "  print(df[i].unique())"
      ],
      "execution_count": null,
      "outputs": [
        {
          "output_type": "stream",
          "name": "stdout",
          "text": [
            "['Property Damage Accident' 'Property Damage & Injury Accident'\n",
            " 'Injury Accident' 'Fatal Accident']\n",
            "['Tuesday' 'Monday' 'Sunday' 'Saturday' 'Friday' 'Thursday' 'Wednesday']\n",
            "['Y' 'N']\n",
            "['Dark-Road Unlighted' 'Daylight' 'Dark-Road Lighted' 'Unknown' 'Dusk'\n",
            " 'Dawn']\n",
            "['MIDDLESEX' 'LE RAY' 'HEMPSTEAD' ... 'PROSPECT' 'LIMESTONE' 'OIL SPRING']\n",
            "['OTHER' 'SIDESWIPE' 'OVERTAKING' 'RIGHT ANGLE' 'REAR END' 'Unknown'\n",
            " 'HEAD ON' 'LEFT TURN (3)' 'LEFT TURN (0)' 'RIGHT TURN (6)'\n",
            " 'RIGHT TURN (5)']\n",
            "['YATES' 'JEFFERSON' 'NASSAU' 'SUFFOLK' 'ORANGE' 'NIAGARA' 'WESTCHESTER'\n",
            " 'TOMPKINS' 'CHEMUNG' 'SARATOGA' 'QUEENS' 'ERIE' 'CHAUTAUQUA' 'COLUMBIA'\n",
            " 'ONONDAGA' 'WARREN' 'BROOME' 'KINGS' 'MONROE' 'GREENE' 'WYOMING' 'CAYUGA'\n",
            " 'ST. LAWRENCE' 'HERKIMER' 'RENSSELAER' 'MADISON' 'ONEIDA' 'SCHENECTADY'\n",
            " 'MONTGOMERY' 'ALLEGANY' 'WASHINGTON' 'DUTCHESS' 'BRONX' 'HAMILTON'\n",
            " 'ROCKLAND' 'RICHMOND' 'NEW YORK' 'CATTARAUGUS' 'ULSTER' 'PUTNAM'\n",
            " 'ONTARIO' 'SULLIVAN' 'CHENANGO' 'LEWIS' 'OSWEGO' 'ALBANY' 'FRANKLIN'\n",
            " 'LIVINGSTON' 'TIOGA' 'OTSEGO' 'DELAWARE' 'GENESEE' 'CORTLAND' 'FULTON'\n",
            " 'ESSEX' 'SENECA' 'CLINTON' 'SCHUYLER' 'SCHOHARIE' 'WAYNE' 'STEUBEN'\n",
            " 'ORLEANS' 'UNKNOWN']\n",
            "['Straight and Level' 'Curve and Grade' 'Straight and Grade'\n",
            " 'Curve and Level' 'Unknown' 'Curve at Hill Crest'\n",
            " 'Straight at Hill Crest']\n",
            "['Snow' 'Cloudy' 'Rain' 'Clear' 'Unknown' 'Sleet/Hail/Freezing Rain'\n",
            " 'Fog/Smog/Smoke' 'Other*']\n",
            "['None' 'Traffic Signal' 'Stop Sign' 'No Passing Zone' 'Unknown'\n",
            " 'School Zone' 'Yield Sign' 'Other' 'Flashing Light'\n",
            " 'Police/Fire Emergency' 'Construction Work Area' 'Utility Work Area'\n",
            " 'RR Crossing Gates' 'Officer/Guard' 'RR Crossing Sign'\n",
            " 'Stopped School Bus-Red Lights Flashing' 'Not Applicable'\n",
            " 'RR Crossing Flashing Light' 'Maintenance Work Area']\n",
            "['Wet' 'Snow/Ice' 'Dry' 'Unknown' 'Slush' 'Muddy' 'Other' 'Flooded Water']\n",
            "['364 66011104' '26 73071094' nan ... '39 42061134' '79 91011116'\n",
            " '88I94063000']\n",
            "['Not Applicable' 'Crossing, No Signal or Crosswalk'\n",
            " 'Getting On/Off Vehicle Other than School Bus'\n",
            " 'Emerging from in Front of/Behind Parked Vehicle'\n",
            " 'Riding/Walking/Skating Along Highway With Traffic' 'Unknown'\n",
            " 'Crossing, Against Signal' 'Other Actions in Roadway'\n",
            " 'Crossing, With Signal' 'Crossing, No Signal, Marked Crosswalk'\n",
            " 'Playing in Roadway' 'Working in Roadway' 'Not in Roadway (Indicate)'\n",
            " 'Riding/Walking/Skating Along Highway Against Traffic'\n",
            " 'Going to/From Stopped School Bus' 'Pushing/Working On Car']\n",
            "['Deer' 'Other Motor Vehicle, Collision With'\n",
            " 'Guide Rail - Not At End, Collision With Fixed Object'\n",
            " 'Guide Rail - End, Collision With Fixed Object'\n",
            " 'Building/Wall, Collision With Fixed Object'\n",
            " 'Tree, Collision With Fixed Object'\n",
            " 'Other Object (Not Fixed)*, Collision With'\n",
            " 'Light Support/Utility Pole, Collision With Fixed Object'\n",
            " 'Other Fixed Object*, Collision With Fixed Object'\n",
            " 'Sign Post, Collision With Fixed Object'\n",
            " 'Earth Embankment/Rock Cut/Ditch, Collision With Fixed Object'\n",
            " 'Snow Embankment, Collision With Fixed Object' 'Other*, Non-Collision'\n",
            " 'Curbing, Collision With Fixed Object' 'Pedestrian, Collision With'\n",
            " 'Animal, Collision With' 'Bridge Structure, Collision With Fixed Object'\n",
            " 'Bicyclist, Collision With'\n",
            " 'Median - Not At End, Collision With Fixed Object'\n",
            " 'Culver/Head Wall, Collision With Fixed Object'\n",
            " 'Barrier, Collision With Fixed Object'\n",
            " 'Fence, Collision With Fixed Object'\n",
            " 'Fire Hydrant, Collision With Fixed Object'\n",
            " 'Ran Off Roadway Only, Non-Collision' 'Overturned, Non-Collision'\n",
            " 'Other Pedestrian' 'Median - End, Collision With Fixed Object'\n",
            " 'Fire/Explosion, Non-Collision'\n",
            " 'Crash Cushion, Collision With Fixed Object' 'Submersion, Non-Collision'\n",
            " 'Railroad Train, Collision With' 'In-Line Skater, Collision With']\n",
            "[ 1  2  3  4  5  6 10  8  7 14 12  9 11 19 15 13 21]\n"
          ]
        }
      ]
    },
    {
      "cell_type": "code",
      "metadata": {
        "id": "Ak2bHD4DhRZg"
      },
      "source": [
        ""
      ],
      "execution_count": null,
      "outputs": []
    },
    {
      "cell_type": "code",
      "metadata": {
        "colab": {
          "base_uri": "https://localhost:8080/"
        },
        "id": "v1TPKeN_a1XS",
        "outputId": "21f8ed71-5363-462f-b376-76165e3c3be8"
      },
      "source": [
        "for col in df:\n",
        "  print(col)"
      ],
      "execution_count": null,
      "outputs": [
        {
          "output_type": "stream",
          "name": "stdout",
          "text": [
            "Year\n",
            "Crash Descriptor\n",
            "Time\n",
            "Date\n",
            "Day of Week\n",
            "Police Report\n",
            "Lighting Conditions\n",
            "Municipality\n",
            "Collision Type Descriptor\n",
            "County Name\n",
            "Road Descriptor\n",
            "Weather Conditions\n",
            "Traffic Control Device\n",
            "Road Surface Conditions\n",
            "DOT Reference Marker Location\n",
            "Pedestrian Bicyclist Action\n",
            "Event Descriptor\n",
            "Number of Vehicles Involved\n"
          ]
        }
      ]
    },
    {
      "cell_type": "code",
      "metadata": {
        "id": "aqtAsvppg54s"
      },
      "source": [
        "df1 = pd.DataFrame({'team': ['A', 'A', 'A', 'B', 'B', 'C'],\n",
        "                   'conference': ['East', 'East', 'East', 'West', 'West', 'East'],\n",
        "                   'points': [11, 8, 10, 6, 6, 5]})"
      ],
      "execution_count": null,
      "outputs": []
    },
    {
      "cell_type": "code",
      "metadata": {
        "colab": {
          "base_uri": "https://localhost:8080/",
          "height": 235
        },
        "id": "sHaJ6Hd8O2kO",
        "outputId": "70e79e0a-42a8-4f5e-9333-750e0bce5e9e"
      },
      "source": [
        "df1"
      ],
      "execution_count": null,
      "outputs": [
        {
          "output_type": "execute_result",
          "data": {
            "text/html": [
              "<div>\n",
              "<style scoped>\n",
              "    .dataframe tbody tr th:only-of-type {\n",
              "        vertical-align: middle;\n",
              "    }\n",
              "\n",
              "    .dataframe tbody tr th {\n",
              "        vertical-align: top;\n",
              "    }\n",
              "\n",
              "    .dataframe thead th {\n",
              "        text-align: right;\n",
              "    }\n",
              "</style>\n",
              "<table border=\"1\" class=\"dataframe\">\n",
              "  <thead>\n",
              "    <tr style=\"text-align: right;\">\n",
              "      <th></th>\n",
              "      <th>team</th>\n",
              "      <th>conference</th>\n",
              "      <th>points</th>\n",
              "    </tr>\n",
              "  </thead>\n",
              "  <tbody>\n",
              "    <tr>\n",
              "      <th>0</th>\n",
              "      <td>A</td>\n",
              "      <td>East</td>\n",
              "      <td>11</td>\n",
              "    </tr>\n",
              "    <tr>\n",
              "      <th>1</th>\n",
              "      <td>A</td>\n",
              "      <td>East</td>\n",
              "      <td>8</td>\n",
              "    </tr>\n",
              "    <tr>\n",
              "      <th>2</th>\n",
              "      <td>A</td>\n",
              "      <td>East</td>\n",
              "      <td>10</td>\n",
              "    </tr>\n",
              "    <tr>\n",
              "      <th>3</th>\n",
              "      <td>B</td>\n",
              "      <td>West</td>\n",
              "      <td>6</td>\n",
              "    </tr>\n",
              "    <tr>\n",
              "      <th>4</th>\n",
              "      <td>B</td>\n",
              "      <td>West</td>\n",
              "      <td>6</td>\n",
              "    </tr>\n",
              "    <tr>\n",
              "      <th>5</th>\n",
              "      <td>C</td>\n",
              "      <td>East</td>\n",
              "      <td>5</td>\n",
              "    </tr>\n",
              "  </tbody>\n",
              "</table>\n",
              "</div>"
            ],
            "text/plain": [
              "  team conference  points\n",
              "0    A       East      11\n",
              "1    A       East       8\n",
              "2    A       East      10\n",
              "3    B       West       6\n",
              "4    B       West       6\n",
              "5    C       East       5"
            ]
          },
          "metadata": {},
          "execution_count": 4
        }
      ]
    },
    {
      "cell_type": "code",
      "metadata": {
        "colab": {
          "base_uri": "https://localhost:8080/",
          "height": 142
        },
        "id": "9Q-mRgL6PU0o",
        "outputId": "c8ffcfe6-d007-4cf7-88ed-e104d87b6890"
      },
      "source": [
        "3\n",
        "import pandas as pd\n",
        "4\n",
        "my_crosstab = pd.crosstab(index=df1[\"conference\"], \n",
        "                            columns=df1[\"team\"],\n",
        "                             margins=False)   # Include row and column totals\n",
        "7\n",
        "my_crosstab\n"
      ],
      "execution_count": null,
      "outputs": [
        {
          "output_type": "execute_result",
          "data": {
            "text/html": [
              "<div>\n",
              "<style scoped>\n",
              "    .dataframe tbody tr th:only-of-type {\n",
              "        vertical-align: middle;\n",
              "    }\n",
              "\n",
              "    .dataframe tbody tr th {\n",
              "        vertical-align: top;\n",
              "    }\n",
              "\n",
              "    .dataframe thead th {\n",
              "        text-align: right;\n",
              "    }\n",
              "</style>\n",
              "<table border=\"1\" class=\"dataframe\">\n",
              "  <thead>\n",
              "    <tr style=\"text-align: right;\">\n",
              "      <th>team</th>\n",
              "      <th>A</th>\n",
              "      <th>B</th>\n",
              "      <th>C</th>\n",
              "    </tr>\n",
              "    <tr>\n",
              "      <th>conference</th>\n",
              "      <th></th>\n",
              "      <th></th>\n",
              "      <th></th>\n",
              "    </tr>\n",
              "  </thead>\n",
              "  <tbody>\n",
              "    <tr>\n",
              "      <th>East</th>\n",
              "      <td>3</td>\n",
              "      <td>0</td>\n",
              "      <td>1</td>\n",
              "    </tr>\n",
              "    <tr>\n",
              "      <th>West</th>\n",
              "      <td>0</td>\n",
              "      <td>2</td>\n",
              "      <td>0</td>\n",
              "    </tr>\n",
              "  </tbody>\n",
              "</table>\n",
              "</div>"
            ],
            "text/plain": [
              "team        A  B  C\n",
              "conference         \n",
              "East        3  0  1\n",
              "West        0  2  0"
            ]
          },
          "metadata": {},
          "execution_count": 7
        }
      ]
    }
  ]
}